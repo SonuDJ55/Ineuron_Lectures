{
 "cells": [
  {
   "cell_type": "code",
   "execution_count": null,
   "id": "bb02a1bf",
   "metadata": {},
   "outputs": [],
   "source": [
    "import regex as re\n",
    "t1 = 'cxxcffrerge'\n",
    "print(re.findall[x,xl,i,ii])\n"
   ]
  }
 ],
 "metadata": {
  "language_info": {
   "name": "python"
  }
 },
 "nbformat": 4,
 "nbformat_minor": 5
}
