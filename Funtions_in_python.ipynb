{
 "cells": [
  {
   "cell_type": "code",
   "execution_count": 27,
   "metadata": {},
   "outputs": [
    {
     "name": "stdout",
     "output_type": "stream",
     "text": [
      "This is the first function\n",
      "This is the second function\n",
      "The result is 30\n",
      "sum of  the numbers is  80\n",
      "Diffrence between the two number is  20\n"
     ]
    }
   ],
   "source": [
    "#Create funtions in python\n",
    "def first():\n",
    "    print(\"This is the first function\")\n",
    "\n",
    "def second():\n",
    "    print(\"This is the second function\")\n",
    "\n",
    "#Calling functions\n",
    "first()\n",
    "second()\n",
    "\n",
    "def welcome(name):\n",
    "    return \"Welcome \"+ name\n",
    "\n",
    "welcome('John')\n",
    "\n",
    "def add (num1, num2):\n",
    "    sum = num1 + num2\n",
    "    return sum\n",
    "    \n",
    "\n",
    "result = add (10, 20)\n",
    "print(\"The result is \" + str (result))\n",
    "\n",
    "\n",
    "def arthematics ():\n",
    "    num1 = int (input ('\\nPlease enter the first number: '))\n",
    "    num2 = int (input ('Please enter the second number: '))\n",
    "\n",
    "    sum = num1 + num2\n",
    "    diff = num1 - num2\n",
    "    multi = num1 * num2\n",
    "    div = num1 / num2\n",
    "    \n",
    "    \n",
    "    \n",
    "    return {\n",
    "        \"sum_result\": sum,\n",
    "        \"dif_result\": diff,\n",
    "        \"multi_result\": multi, \n",
    "        \"div_result\": div\n",
    "    }\n",
    "result = arthematics ()\n",
    "print(\"sum of  the numbers is \", + result[\"sum_result\"])\n",
    "print(\"Diffrence between the two number is \", + result[\"dif_result\"])\n",
    "\n",
    "\n",
    "\n",
    "\n",
    "\n"
   ]
  },
  {
   "cell_type": "code",
   "execution_count": 5,
   "metadata": {},
   "outputs": [
    {
     "name": "stdout",
     "output_type": "stream",
     "text": [
      "Fvdfv\n",
      "Fwfw\n"
     ]
    }
   ],
   "source": [
    "    def cap_name():\n",
    "\n",
    "        # Taking input from user\n",
    "        first_name = str (input (\"Please enter your first name: \"))  .capitalize()\n",
    "        last_name = str(input('Please enter your last name: ').capitalize())\n",
    "\n",
    "        # Returing the user input\n",
    "        return {\n",
    "             \"First Name\": first_name, \n",
    "             \"Last Name\": last_name\n",
    "            \n",
    "            \n",
    "            }\n",
    "    result = cap_name()\n",
    "print(result[\"First Name\"])\n",
    "print(result[\"Last Name\"])\n",
    "\n",
    "    \n"
   ]
  },
  {
   "cell_type": "code",
   "execution_count": 24,
   "metadata": {},
   "outputs": [
    {
     "name": "stdout",
     "output_type": "stream",
     "text": [
      "[2, 36, 86, 599, 64, 556]\n",
      "Number 2 is even\n",
      "Number 36 is odd\n",
      "Number 86 is even\n",
      "Number 599 is odd\n",
      "Number 64 is even\n",
      "Number 556 is odd\n"
     ]
    }
   ],
   "source": [
    "# If number is even or odd.\n",
    "'''\n",
    "def evenodd():\n",
    "\n",
    "    num = int(input(\"Please enter a numbr:\"))\n",
    "    if num % 2  == 0:\n",
    "        print(f\"Number {num} is even\")\n",
    "    else:\n",
    "      print(f\"Number is {num} is odd\")\n",
    "     \n",
    "       \n",
    "result = evenodd()\n",
    "\n",
    "'''\n",
    "def evenodd1():\n",
    "    numbers = [2,36,86,599,64,556]\n",
    "    print(numbers)\n",
    "    for i in range(len(numbers)):\n",
    "        if i % 2 == 0:\n",
    "            print(f\"Number {numbers[i]} is even\")\n",
    "        else:\n",
    "            print(f\"Number {numbers[i]} is odd\")\n",
    "\n",
    "result2 = evenodd1()\n",
    "\n",
    "\n",
    " "
   ]
  },
  {
   "cell_type": "code",
   "execution_count": 1,
   "metadata": {},
   "outputs": [
    {
     "name": "stdout",
     "output_type": "stream",
     "text": [
      "*\n",
      "**\n",
      "***\n",
      "****\n",
      "*****\n",
      "********\n",
      "*******\n",
      "******\n",
      "*****\n",
      "****\n",
      "***\n",
      "**\n",
      "*\n"
     ]
    }
   ],
   "source": [
    "# Straight triangle\n",
    "def shape(rows):\n",
    "    for i in range(1, rows + 1 ):\n",
    "        for j in range (i):\n",
    "            print(\"*\", end=\"\")\n",
    "        print()\n",
    "\n",
    "shape(5)\n",
    "\n",
    "# Reverse triangel\n",
    "def shape1(rows):\n",
    "    for i in range(rows,0, -1):\n",
    "        for j in range(i):\n",
    "            print(\"*\", end=\"\")\n",
    "        print()\n",
    "\n",
    "shape1(8)\n"
   ]
  },
  {
   "cell_type": "code",
   "execution_count": 1,
   "metadata": {},
   "outputs": [
    {
     "name": "stdout",
     "output_type": "stream",
     "text": [
      "Result is 3\n"
     ]
    }
   ],
   "source": [
    "#Return \n",
    "def cal():\n",
    "    #Input from user\n",
    "    num1=int(input(\"Enter num1 \"))\n",
    "    num2= int(input(\"Enter num2\"))\n",
    "\n",
    "    # Opration selection\n",
    "    n = int(input(\"Select opration 1. For addition 2. For Substraction 3. For Multiplication 4. For Division\"))\n",
    "\n",
    "    if n==1:\n",
    "        return num1 + num2\n",
    "    elif n==2:\n",
    "        return num1 - num2\n",
    "    elif n==3:\n",
    "        return num1 * num2\n",
    "    elif n==4:\n",
    "        if num2 != 0:\n",
    "            return num1 / num2\n",
    "        else:\n",
    "            print(\"Num2 should not be zero\")\n",
    "\n",
    "\n",
    "result = cal()\n",
    "print(\"Result is\", result)\n"
   ]
  },
  {
   "cell_type": "code",
   "execution_count": 9,
   "metadata": {},
   "outputs": [
    {
     "name": "stdout",
     "output_type": "stream",
     "text": [
      "[1, 4, 9, 16, 25, 36]\n",
      "{'name': 'Mi', 'price': '15'}\n",
      "{'name': 'Vivo', 'price': '20000'}\n",
      "{'name': 'Apple', 'price': '25000'}\n"
     ]
    }
   ],
   "source": [
    "# Lambda function in python:\n",
    "\n",
    "\"\"\"\n",
    " #Lambda funtion inside a regular user define funtion\n",
    "def myfun(n):\n",
    "    return lambda a : a * n\n",
    "\n",
    "mydouble = myfun(2)\n",
    "\n",
    "print(mydouble(22))\n",
    "\n",
    "#Lambda function of even  or odd\n",
    "even_or_odd = lambda x : 'even' if x % 2 == 0 else 'odd'\n",
    "print(even_or_odd(12))\n",
    "\n",
    "#lambda funciton for square\n",
    "square = lambda x : x**2\n",
    "print(square(200))\n",
    "\n",
    "#lambda for max number between two numbers\n",
    "max_num=  lambda x,y: x if x > y else y\n",
    "print(max_num(20,21))\n",
    "\n",
    "#Lambda function where u take input from user \n",
    "add = lambda x,y,c: x+y+c\n",
    "num1 = int(input(\"Enter firt number for addition\"))\n",
    "num2= int(input(\"Enter second number for addition\"))\n",
    "num3= int(input(\"Enter third numebr for addition\"))\n",
    "\n",
    "print(\"Addiion is \", add(num1,num2,num3)) \n",
    "\n",
    "\"\"\"\n",
    "\n",
    "\n",
    "# Lambda function using for operation in list\n",
    "\n",
    "my_list_sq = lambda x : [i**2 for i in x]\n",
    "print(my_list_sq([1,2,3,4,5,6]))\n",
    "\n",
    "\n",
    "# Lamda used for sorted\n",
    "product = [\n",
    "           {'name':'Mi', 'price':'15'},\n",
    "           {'name':'Vivo', 'price':'20000'},\n",
    "           {'name':'Apple', 'price':'25000'},\n",
    "           \n",
    "                                                 ]\n",
    "\n",
    "sorted_product= sorted(product,key= lambda x: x['price'])\n",
    "for product in sorted_product:\n",
    "    print(product)\n"
   ]
  },
  {
   "cell_type": "markdown",
   "metadata": {},
   "source": [
    "# Recursion"
   ]
  },
  {
   "cell_type": "code",
   "execution_count": 12,
   "metadata": {},
   "outputs": [
    {
     "name": "stdout",
     "output_type": "stream",
     "text": [
      "15\n"
     ]
    }
   ],
   "source": [
    "def rec_sum(n):\n",
    "    if n==1:\n",
    "        return 1\n",
    "    else:\n",
    "        return n + rec_sum(n-1)\n",
    "print(rec_sum(5))"
   ]
  },
  {
   "cell_type": "code",
   "execution_count": 7,
   "metadata": {},
   "outputs": [
    {
     "name": "stdout",
     "output_type": "stream",
     "text": [
      "[0, 1]\n",
      "[0, 1, 1]\n",
      "[0, 1, 1, 2]\n",
      "[0, 1, 1, 2, 3]\n",
      "[0, 1, 1, 2, 3, 5]\n",
      "[0, 1, 1, 2, 3, 5, 8]\n"
     ]
    }
   ],
   "source": [
    "'''\n",
    "def fibunaci(n):\n",
    "    if n <=1:\n",
    "        return n\n",
    "    else:\n",
    "        return fibunaci(n-1) + fibunaci(n-2)\n",
    "print(fibunaci(8))\n",
    "'''\n",
    "# Alternative way of Fibunaci is\n",
    "\n",
    "def print_fib(n):\n",
    "    if n<=0:\n",
    "        return []\n",
    "    elif n == 1:\n",
    "        return [0]\n",
    "    elif n==2:\n",
    "        return[0,1]\n",
    "    else:\n",
    "        fib_series = print_fib(n-1)\n",
    "        print(fib_series)\n",
    "        fib_series.append(fib_series[-1]+fib_series[-2])\n",
    "        \n",
    "        return fib_series\n",
    "print(print_fib(7))"
   ]
  },
  {
   "cell_type": "code",
   "execution_count": 8,
   "metadata": {},
   "outputs": [
    {
     "name": "stdout",
     "output_type": "stream",
     "text": [
      "There is no x\n",
      "There is no exception\n"
     ]
    }
   ],
   "source": [
    "try:\n",
    "    print(x)\n",
    "except:\n",
    "    print(\"There is no x\")\n",
    "finally:\n",
    "    print(\"There is no exception\")"
   ]
  },
  {
   "cell_type": "code",
   "execution_count": null,
   "metadata": {},
   "outputs": [],
   "source": []
  }
 ],
 "metadata": {
  "kernelspec": {
   "display_name": "Python 3",
   "language": "python",
   "name": "python3"
  },
  "language_info": {
   "codemirror_mode": {
    "name": "ipython",
    "version": 3
   },
   "file_extension": ".py",
   "mimetype": "text/x-python",
   "name": "python",
   "nbconvert_exporter": "python",
   "pygments_lexer": "ipython3",
   "version": "3.10.0"
  }
 },
 "nbformat": 4,
 "nbformat_minor": 2
}
