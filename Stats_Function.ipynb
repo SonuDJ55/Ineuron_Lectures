{
 "cells": [
  {
   "cell_type": "code",
   "execution_count": 46,
   "metadata": {},
   "outputs": [
    {
     "name": "stdout",
     "output_type": "stream",
     "text": [
      "Covarinece is  10.0\n",
      "Population std is 8.16496580927726\n",
      "Corelation is  <function corellation at 0x000001B7D51296C0>\n"
     ]
    },
    {
     "data": {
      "text/plain": [
       "100.0"
      ]
     },
     "execution_count": 46,
     "metadata": {},
     "output_type": "execute_result"
    }
   ],
   "source": [
    "import math\n",
    "# Meam of array\n",
    "\n",
    "def mean(data):\n",
    "    n=len(data)\n",
    "    summation = sum(data)\n",
    "    mean = (summation/n)\n",
    "    return mean\n",
    "\n",
    "def median(data):\n",
    "    n = len(data)\n",
    "    data.sort()\n",
    "    middle_element = len(data) //2 \n",
    "    \n",
    "    if n%2==0:\n",
    "        median= ((data[middle_element -1] +data[middle_element] ) /2)\n",
    "        return median\n",
    "    else:\n",
    "        return data[middle_element]\n",
    "\n",
    "def Population_Varience(data):\n",
    "    n =len(data)\n",
    "    varience = 0\n",
    "\n",
    "    for i in range(len(data)):\n",
    "        varience += (data[i] - mean(data)) ** 2\n",
    "        \n",
    "    return varience/n\n",
    "\n",
    "def sample_varience(data):\n",
    "    n = len(data) -1\n",
    "    varience = 0\n",
    "    for i in range(len(data)):\n",
    "        varience += ((data[i] - mean(data))**2) / n\n",
    "            \n",
    "    return varience\n",
    "\n",
    "def covarience(x,y):\n",
    "    n = len(x) -1\n",
    "    mean_x = mean(x)\n",
    "    mean_y= mean(y)\n",
    "    cov=sum((x[i]- mean_x)*(y[i]-mean_y) for i in range (n))\n",
    "    return cov\n",
    "\n",
    "x = [10,20,30]\n",
    "y = [1,2,3]\n",
    "\n",
    "print(f'Covarinece is ',covarience(x,y))\n",
    "\n",
    "\n",
    "def Population_std_deviation(data):\n",
    "    n = len(data)\n",
    "    summation = sum((data[i] - mean(data))**2 for i in range (n))\n",
    "    Pop_std = math.sqrt(summation/n)\n",
    "\n",
    "    return Pop_std\n",
    "\n",
    "\n",
    "popx= Population_std_deviation(x)\n",
    "print(f'Population std is', popx)\n",
    "\n",
    "def corelation(x,y):\n",
    "    corelation = covarience(x,y)/ (Population_std_deviation(x)* Population_std_deviation(y))\n",
    "    return corelation\n",
    "\n",
    "print(f'Corelation is ',corellation(x,y)) \n",
    "\n",
    "\n",
    "\n",
    "data1= [10,20,30]\n",
    "\n",
    "mean(data1)\n",
    "median(data1)\n",
    "Population_Varience(data1)\n",
    "sample_varience(data1)"
   ]
  },
  {
   "cell_type": "code",
   "execution_count": null,
   "metadata": {},
   "outputs": [
    {
     "data": {
      "text/plain": [
       "1"
      ]
     },
     "execution_count": 18,
     "metadata": {},
     "output_type": "execute_result"
    }
   ],
   "source": [
    "\n",
    "        "
   ]
  },
  {
   "cell_type": "code",
   "execution_count": null,
   "metadata": {},
   "outputs": [],
   "source": []
  }
 ],
 "metadata": {
  "kernelspec": {
   "display_name": "Python 3",
   "language": "python",
   "name": "python3"
  },
  "language_info": {
   "codemirror_mode": {
    "name": "ipython",
    "version": 3
   },
   "file_extension": ".py",
   "mimetype": "text/x-python",
   "name": "python",
   "nbconvert_exporter": "python",
   "pygments_lexer": "ipython3",
   "version": "3.10.0"
  }
 },
 "nbformat": 4,
 "nbformat_minor": 2
}
