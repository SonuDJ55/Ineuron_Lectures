{
 "cells": [
  {
   "cell_type": "code",
   "execution_count": null,
   "metadata": {},
   "outputs": [],
   "source": [
    "# Check pan card\n",
    "import re\n",
    "class Mypan:\n",
    "    def check_pan(self):\n",
    "        pan = input(\"Enter pan number:\")\n",
    "        pan=pan.upper()\n",
    "        pattern = r'[A-Z]{5} [0-9]{4}[A-Z]$'\n",
    "        if len(pan)==10:\n",
    "            if re.match(pattern,pan):\n",
    "                print()\n",
    "            print(\"Valid Pan\",pan)        \n",
    "        else: print(\"Invalid PAn Number:\",pan,\"Please enter valid pan number\")\n",
    "        \n",
    "pan1 = Mypan()\n",
    "pan1.check_pan()"
   ]
  },
  {
   "cell_type": "code",
   "execution_count": null,
   "metadata": {},
   "outputs": [],
   "source": [
    "li1= [\"Banana\",\"apple\",\"cerrie\",\"Kiwi\",\"orange\",\"watermelon\",\"makmelon\"]\n",
    "print(li1)\n",
    "\n",
    "#Remove item from list, this \n",
    "#li1.remove(\"Banana\")\n",
    "#pop the last element of the list\n",
    "#li1.pop()     \n",
    "\n",
    "del li1[2]\n",
    "print(li1)\n",
    "\n",
    "\n",
    "\n",
    "\n"
   ]
  },
  {
   "cell_type": "code",
   "execution_count": null,
   "metadata": {},
   "outputs": [],
   "source": [
    "li1= [\"Banana\",\"apple\",\"cerrie\",\"Kiwi\",\"orange\",\"watermelon\",\"makmelon\"]\n",
    "newlist = [i for i in li1 if  \"k\"  in i]\n",
    "print(\"New List\",newlist)"
   ]
  },
  {
   "cell_type": "code",
   "execution_count": null,
   "metadata": {},
   "outputs": [],
   "source": [
    "li1= [\"banana\",\"apple\",\"cerrie\",\"kiwi\",\"Orange\",\"Watermelon\",\"Makmelon\"]\n",
    "li1.sort()\n",
    "print(\"Sorted list\",li1)"
   ]
  },
  {
   "cell_type": "code",
   "execution_count": null,
   "metadata": {},
   "outputs": [],
   "source": [
    "# Sorting and reverse operation \n",
    "li1= [\"banana\",\"apple\",\"cerrie\",\"kiwi\",\"Orange\",\"Watermelon\",\"Makmelon\"]\n",
    "numlit= [1,2,3,4,5,6]\n",
    "\n",
    "#Capitalize the first letter of the string in a list and print it out.\n",
    "newlist=[i.capitalize() for i in li1]\n",
    "print(newlist)\n",
    "\n",
    "\n",
    "#Sort alphabrtically the new list\n",
    "newlist.sort()\n",
    "print(\"New List sorted\",newlist)\n",
    "\n",
    "#revers sorting\n",
    "# newlist2=[i.capitalize() for i in li1]\n",
    "numlit.sort(reverse = True)\n",
    "print(numlit)\n",
    "\n"
   ]
  },
  {
   "cell_type": "code",
   "execution_count": 39,
   "metadata": {},
   "outputs": [
    {
     "name": "stdout",
     "output_type": "stream",
     "text": [
      "{'Sonu', 'Monu', 'Dhiru'}\n",
      "{'Taklu', 'Sulbha', 'Swarupa', 'Sonu', 'Monu', 'Dhiru'}\n",
      "{'Taklu', 'Sulbha', 'Swarupa', 'Sonu'}\n"
     ]
    }
   ],
   "source": [
    "#Set cannot have duplicate element becasue set is unordered collection of unique elements.\n",
    "#Set only count unqiue values and not duplicate value.\n",
    "'''\n",
    "Opration on set:\n",
    "Union to combine two or more set                                         \n",
    "\n",
    "'''\n",
    "\n",
    "set1={\"Dhiru\",\"Monu\",\"Sonu\"}\n",
    "print(set1)\n",
    "\n",
    "set2={\"Swarupa\",\"Sulbha\",\"Taklu\",\"Dhiru\", \"Monu\"}\n",
    "\n",
    "#Union of set 1 and set2 and stored in set3\n",
    "\n",
    "union_set = set1.union(set2)\n",
    "print(union_set)\n",
    "\n",
    "#Keep only dulicate value\n",
    "set1.symmetric_difference_update(set2)\n",
    "print(set1)\n",
    "\n"
   ]
  },
  {
   "cell_type": "code",
   "execution_count": 16,
   "metadata": {},
   "outputs": [
    {
     "name": "stdout",
     "output_type": "stream",
     "text": [
      "1\n",
      "key is  : d1\n",
      "values are: Dhiraj\n",
      "values are: Solapur\n",
      "values are: 6727685555\n",
      "key is  : d2\n",
      "values are: Swapnil\n",
      "values are: Pune\n",
      "values are: 4567891230\n",
      "key is  : d3\n",
      "values are: Sulbha\n",
      "values are: Mumbai\n",
      "values are: 8689575662\n"
     ]
    }
   ],
   "source": [
    "# Dictionary in python\n",
    "#From python 3.7 dictionary are ordered and previously they were unordereded collection of unique elements.\n",
    "#Duplicate values are not allowed\n",
    "\n",
    "d0={\"Key1\":\"Value1\"}\n",
    "d1 ={\"name\":\"Dhiraj\",\"city\":\"Pune\",\"state\":\"Maharashtra\"}\n",
    "d2 = {\"name\":\"Swapnil\",\"city\":\"Mumbai\",\"state\":\"Maharashtra\"}\n",
    "\n",
    "print(len(d0))\n",
    "\"\"\"\n",
    "#For Keys in dictionary\n",
    "keys = d2.keys()\n",
    "print(keys)\n",
    "\n",
    "#Another way is\n",
    "for i in keys: \n",
    "    print(i)\n",
    "\n",
    "d={\"d1\":{\"name\":\"Dhiraj\",\"city\":\"Solapur\",\"Mobile\":\"6727685555\"},\n",
    "   \"d2\":{\"name\":\"Swapnil\",\"city\":\"Pune\",\"Mobile\":\"4567891230\"},\n",
    "   \"d3\":{\"name\":\"Sulbha\",\"city\":\"Mumbai\",\"Mobile\":\"8689575662\"}\n",
    "   }\n",
    "print(d)     \n",
    "'''\n",
    "#Access key and value from dictionary\n",
    "kv1=d[\"d1\"]\n",
    "print(kv1)\n",
    "'''\n",
    "#print(\"Keys in d1 are\",d1.keys())\n",
    "#print(\"Values in d1 are\",d1.values())\n",
    "\n",
    "\"\"\"\n",
    "for key in d:\n",
    "    nested_dict = d[key]\n",
    "    print(f\"key is  : {key}\")\n",
    "    \n",
    "    for values in  nested_dict.values():\n",
    "        print(f\"values are: {values}\")\n"
   ]
  },
  {
   "cell_type": "code",
   "execution_count": null,
   "metadata": {},
   "outputs": [],
   "source": []
  },
  {
   "cell_type": "code",
   "execution_count": null,
   "metadata": {},
   "outputs": [],
   "source": []
  },
  {
   "cell_type": "code",
   "execution_count": null,
   "metadata": {},
   "outputs": [],
   "source": []
  },
  {
   "cell_type": "code",
   "execution_count": null,
   "metadata": {},
   "outputs": [],
   "source": []
  }
 ],
 "metadata": {
  "kernelspec": {
   "display_name": "Python 3",
   "language": "python",
   "name": "python3"
  },
  "language_info": {
   "codemirror_mode": {
    "name": "ipython",
    "version": 3
   },
   "file_extension": ".py",
   "mimetype": "text/x-python",
   "name": "python",
   "nbconvert_exporter": "python",
   "pygments_lexer": "ipython3",
   "version": "3.10.0"
  }
 },
 "nbformat": 4,
 "nbformat_minor": 2
}
